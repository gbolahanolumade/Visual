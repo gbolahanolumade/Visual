{
 "cells": [
  {
   "cell_type": "markdown",
   "id": "4760438f-7a44-45a9-bfb4-3b2a7ff3ca1d",
   "metadata": {},
   "source": [
    "Visual"
   ]
  },
  {
   "cell_type": "code",
   "execution_count": 1,
   "id": "69dd445d-a271-47f9-bcbe-069b4137eb44",
   "metadata": {},
   "outputs": [],
   "source": [
    "import pandas as pd\n",
    "import numpy as np\n",
    "import matplotlib.pyplot as plt"
   ]
  },
  {
   "cell_type": "code",
   "execution_count": null,
   "id": "d7ec0d6d-580d-4d69-9c1c-6cbe5f28eb30",
   "metadata": {},
   "outputs": [],
   "source": []
  }
 ],
 "metadata": {
  "kernelspec": {
   "display_name": "Python 3",
   "language": "python",
   "name": "python3"
  },
  "language_info": {
   "codemirror_mode": {
    "name": "ipython",
    "version": 3
   },
   "file_extension": ".py",
   "mimetype": "text/x-python",
   "name": "python",
   "nbconvert_exporter": "python",
   "pygments_lexer": "ipython3",
   "version": "3.8.8"
  }
 },
 "nbformat": 4,
 "nbformat_minor": 5
}
